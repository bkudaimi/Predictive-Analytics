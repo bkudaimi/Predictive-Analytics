{
 "cells": [
  {
   "cell_type": "code",
   "execution_count": 1,
   "metadata": {},
   "outputs": [],
   "source": [
    "'''\n",
    "In this assignment, we want to calculate the probability of a model ensemble that uses simple majority voting \n",
    "making an incorrect prediction in a few different scenarios (differing number of models and their error rates). \n",
    "Essentially, we want to calculate the probability that a majority of the models in the ensemble will predict \n",
    "incorrectly. For this, we can use the binomial distribution probability, or the probability of getting one of \n",
    "two outcomes given a number of parameters: the number of independent models, the error rates of the models, \n",
    "and by proxy, the majority number making incorrect predictions.\n",
    "\n",
    "To use the binomial distribution to calculate probability, the following rules must be met:\n",
    "\n",
    "1. There must be a fixed number of trials. In our cases, the ensemble has a fixed number of models, the \"trials\"\n",
    "so this is satisfied.\n",
    "\n",
    "2. Each trial must be independent, i.e., not interfere with the outcome of another trial. In the case of a model ensemble,\n",
    "each model does not interfere with another model's function in the ensemble, so this is satisfied. \n",
    "\n",
    "3. Each trial must have one of two possible outcomes, with each having a fixed probability of success. In our case, each\n",
    "model outputs a correct or incorrect prediction with a fixed probability within each scenario, so this is satisfied.\n",
    "\n",
    "To calculate the binomial distribution probability, we will define a function that uses an equation to calculate it.\n",
    "'''\n",
    "\n",
    "'''\n",
    "Defining the function to calculate the binomial distribution probability using the equation prob = nCr * (p**x) * (q^(n-x))\n",
    "\n",
    "n is the number of trials \n",
    "x is the number of successes that occur at a time from within n\n",
    "nCr is the number of combinations that r can be in n\n",
    "p is the probability of success for each trial\n",
    "q is the probability of failure for each trial\n",
    "\n",
    "In our scenarios, \"success\" will be when a model predicts incorrectly, so p would be the error rate.\n",
    "'''\n",
    "\n",
    "def binomial_probability(n, p, x):\n",
    "    from math import factorial\n",
    "    \n",
    "    #Number of combinations of outcome order using the nCr equation\n",
    "    nCr = (factorial(n) / (factorial(n-x) * factorial(x)))\n",
    "    \n",
    "    #Applying the equation to calculate the outcome probability based on the input parameters\n",
    "    q = 1 - p\n",
    "    a = (p**x)\n",
    "    b = (q**(n-x))\n",
    "    prob = nCr * a * b\n",
    "    \n",
    "    return prob"
   ]
  },
  {
   "cell_type": "code",
   "execution_count": 2,
   "metadata": {},
   "outputs": [
    {
     "name": "stdout",
     "output_type": "stream",
     "text": [
      "Probability: 0.97 percent\n"
     ]
    }
   ],
   "source": [
    "#Ensemble Scenario A: 11 independent models, each with an error rate of 0.2\n",
    "\n",
    "#We want to calculate the probability that at least 6/11 models are generating incorrect predictions, the majority.\n",
    "#There are 11 models, so n=11, each has an error rate of 0.2, so p = 0.2 (in our case, the success probability is \n",
    "#that the model makes an incorrect prediction), and x=6 because the majority are making incorrect predictions.\n",
    "\n",
    "n1 = 11\n",
    "p1 = 0.2\n",
    "x1 = 6\n",
    "\n",
    "print('Probability: {} percent'.format(round(binomial_probability(n1, p1, x1), 4)*100))\n",
    "\n",
    "#The probability of the majority generating incorrect predictions is only 0.97%, which makes sense \n",
    "#as the error rate for each model is only 0.2 or 20%."
   ]
  },
  {
   "cell_type": "code",
   "execution_count": 3,
   "metadata": {},
   "outputs": [
    {
     "name": "stdout",
     "output_type": "stream",
     "text": [
      "Probability: 22.06 percent\n"
     ]
    }
   ],
   "source": [
    "#Ensemble Scenario B: 11 independent models, each with an error rate of 0.49\n",
    "\n",
    "#The error rate is now 0.49, so p will be changed to 0.49 in the function\n",
    "\n",
    "n2 = 11\n",
    "p2 = 0.49\n",
    "x2 = 6\n",
    "\n",
    "print('Probability: {} percent'.format(round(binomial_probability(n2, p2, x2), 4)*100))\n",
    "\n",
    "#Now that the error rate has been raised to 49%, it makes sense to see an \n",
    "#increase in the probability that a majority of models predict incorrectly."
   ]
  },
  {
   "cell_type": "code",
   "execution_count": 4,
   "metadata": {},
   "outputs": [
    {
     "name": "stdout",
     "output_type": "stream",
     "text": [
      "Probability: 16.42 percent\n"
     ]
    }
   ],
   "source": [
    "#Ensemble Scenario C: 21 independent models, each with an error rate of 0.49\n",
    "\n",
    "#Because the number of models increased, the number of models needed has also \n",
    "#increased to 11. This means that n=21 and x=11 now.\n",
    "\n",
    "n3 = 21\n",
    "p3 = 0.49\n",
    "x3 = 11\n",
    "\n",
    "print('Probability: {} percent'.format(round(binomial_probability(n3, p3, x3), 4)*100))\n",
    "\n",
    "#Increasing the number of models decreases the probability that a majority will \n",
    "#predict incorrectly, because now the majoriy is much greater (11 models compared \n",
    "#to only 6 in Scenario B)."
   ]
  }
 ],
 "metadata": {
  "kernelspec": {
   "display_name": "Python 3",
   "language": "python",
   "name": "python3"
  },
  "language_info": {
   "codemirror_mode": {
    "name": "ipython",
    "version": 3
   },
   "file_extension": ".py",
   "mimetype": "text/x-python",
   "name": "python",
   "nbconvert_exporter": "python",
   "pygments_lexer": "ipython3",
   "version": "3.8.3"
  }
 },
 "nbformat": 4,
 "nbformat_minor": 4
}
