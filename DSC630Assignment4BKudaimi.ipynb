{
 "cells": [
  {
   "cell_type": "code",
   "execution_count": 1,
   "metadata": {},
   "outputs": [],
   "source": [
    "'''\n",
    "This assignment centers around comparing the performance of three models: A model generated from scratch by following the \n",
    "Expedia challenge rules (one base and one improved will be compared), and two standard classification models. \n",
    "#Both will predict which hotel cluster would be the best to recommend users of Expedia based on their search \n",
    "#specifications on the site. All three will use a split training and testing dataset for training and testing to\n",
    "#obtain precision as a scoring metric. All the models will have precision calculated, and these precision values \n",
    "#compared to determine which is a better predictor of hotel clusters for a search, the code written for the \n",
    "#Expedia challenge or the machine learning models.\n",
    "'''\n",
    "\n",
    "'''\n",
    "Before the models are constructed, exploratory data analysis will be conducted to \n",
    "better understand how to predict the hotel cluster a user is likely to select.\n",
    "'''\n",
    "\n",
    "#Importing the necessary libraries\n",
    "import numpy as np\n",
    "import pandas as pd\n",
    "import matplotlib.pyplot as plt\n",
    "import seaborn as sns\n",
    "from sklearn.decomposition import PCA\n",
    "from sklearn.model_selection import train_test_split\n",
    "import operator\n",
    "import ml_metrics as metrics\n",
    "from sklearn.naive_bayes import GaussianNB\n",
    "from sklearn.ensemble import AdaBoostClassifier\n",
    "from sklearn.metrics import precision_score\n",
    "import warnings\n",
    "warnings.filterwarnings('ignore')"
   ]
  },
  {
   "cell_type": "code",
   "execution_count": 2,
   "metadata": {},
   "outputs": [],
   "source": [
    "#Importing the data\n",
    "#The train.csv file is much too large to be imported, so a chunk of it will be imported instead.\n",
    "train = pd.read_csv('train.csv', iterator = True).get_chunk(1000000)\n",
    "destinations = pd.read_csv('destinations.csv')"
   ]
  },
  {
   "cell_type": "code",
   "execution_count": 3,
   "metadata": {},
   "outputs": [
    {
     "data": {
      "text/html": [
       "<div>\n",
       "<style scoped>\n",
       "    .dataframe tbody tr th:only-of-type {\n",
       "        vertical-align: middle;\n",
       "    }\n",
       "\n",
       "    .dataframe tbody tr th {\n",
       "        vertical-align: top;\n",
       "    }\n",
       "\n",
       "    .dataframe thead th {\n",
       "        text-align: right;\n",
       "    }\n",
       "</style>\n",
       "<table border=\"1\" class=\"dataframe\">\n",
       "  <thead>\n",
       "    <tr style=\"text-align: right;\">\n",
       "      <th></th>\n",
       "      <th>date_time</th>\n",
       "      <th>site_name</th>\n",
       "      <th>posa_continent</th>\n",
       "      <th>user_location_country</th>\n",
       "      <th>user_location_region</th>\n",
       "      <th>user_location_city</th>\n",
       "      <th>orig_destination_distance</th>\n",
       "      <th>user_id</th>\n",
       "      <th>is_mobile</th>\n",
       "      <th>is_package</th>\n",
       "      <th>...</th>\n",
       "      <th>srch_children_cnt</th>\n",
       "      <th>srch_rm_cnt</th>\n",
       "      <th>srch_destination_id</th>\n",
       "      <th>srch_destination_type_id</th>\n",
       "      <th>is_booking</th>\n",
       "      <th>cnt</th>\n",
       "      <th>hotel_continent</th>\n",
       "      <th>hotel_country</th>\n",
       "      <th>hotel_market</th>\n",
       "      <th>hotel_cluster</th>\n",
       "    </tr>\n",
       "  </thead>\n",
       "  <tbody>\n",
       "    <tr>\n",
       "      <th>0</th>\n",
       "      <td>2014-08-11 07:46:59</td>\n",
       "      <td>2</td>\n",
       "      <td>3</td>\n",
       "      <td>66</td>\n",
       "      <td>348</td>\n",
       "      <td>48862</td>\n",
       "      <td>2234.2641</td>\n",
       "      <td>12</td>\n",
       "      <td>0</td>\n",
       "      <td>1</td>\n",
       "      <td>...</td>\n",
       "      <td>0</td>\n",
       "      <td>1</td>\n",
       "      <td>8250</td>\n",
       "      <td>1</td>\n",
       "      <td>0</td>\n",
       "      <td>3</td>\n",
       "      <td>2</td>\n",
       "      <td>50</td>\n",
       "      <td>628</td>\n",
       "      <td>1</td>\n",
       "    </tr>\n",
       "    <tr>\n",
       "      <th>1</th>\n",
       "      <td>2014-08-11 08:22:12</td>\n",
       "      <td>2</td>\n",
       "      <td>3</td>\n",
       "      <td>66</td>\n",
       "      <td>348</td>\n",
       "      <td>48862</td>\n",
       "      <td>2234.2641</td>\n",
       "      <td>12</td>\n",
       "      <td>0</td>\n",
       "      <td>1</td>\n",
       "      <td>...</td>\n",
       "      <td>0</td>\n",
       "      <td>1</td>\n",
       "      <td>8250</td>\n",
       "      <td>1</td>\n",
       "      <td>1</td>\n",
       "      <td>1</td>\n",
       "      <td>2</td>\n",
       "      <td>50</td>\n",
       "      <td>628</td>\n",
       "      <td>1</td>\n",
       "    </tr>\n",
       "    <tr>\n",
       "      <th>2</th>\n",
       "      <td>2014-08-11 08:24:33</td>\n",
       "      <td>2</td>\n",
       "      <td>3</td>\n",
       "      <td>66</td>\n",
       "      <td>348</td>\n",
       "      <td>48862</td>\n",
       "      <td>2234.2641</td>\n",
       "      <td>12</td>\n",
       "      <td>0</td>\n",
       "      <td>0</td>\n",
       "      <td>...</td>\n",
       "      <td>0</td>\n",
       "      <td>1</td>\n",
       "      <td>8250</td>\n",
       "      <td>1</td>\n",
       "      <td>0</td>\n",
       "      <td>1</td>\n",
       "      <td>2</td>\n",
       "      <td>50</td>\n",
       "      <td>628</td>\n",
       "      <td>1</td>\n",
       "    </tr>\n",
       "    <tr>\n",
       "      <th>3</th>\n",
       "      <td>2014-08-09 18:05:16</td>\n",
       "      <td>2</td>\n",
       "      <td>3</td>\n",
       "      <td>66</td>\n",
       "      <td>442</td>\n",
       "      <td>35390</td>\n",
       "      <td>913.1932</td>\n",
       "      <td>93</td>\n",
       "      <td>0</td>\n",
       "      <td>0</td>\n",
       "      <td>...</td>\n",
       "      <td>0</td>\n",
       "      <td>1</td>\n",
       "      <td>14984</td>\n",
       "      <td>1</td>\n",
       "      <td>0</td>\n",
       "      <td>1</td>\n",
       "      <td>2</td>\n",
       "      <td>50</td>\n",
       "      <td>1457</td>\n",
       "      <td>80</td>\n",
       "    </tr>\n",
       "    <tr>\n",
       "      <th>4</th>\n",
       "      <td>2014-08-09 18:08:18</td>\n",
       "      <td>2</td>\n",
       "      <td>3</td>\n",
       "      <td>66</td>\n",
       "      <td>442</td>\n",
       "      <td>35390</td>\n",
       "      <td>913.6259</td>\n",
       "      <td>93</td>\n",
       "      <td>0</td>\n",
       "      <td>0</td>\n",
       "      <td>...</td>\n",
       "      <td>0</td>\n",
       "      <td>1</td>\n",
       "      <td>14984</td>\n",
       "      <td>1</td>\n",
       "      <td>0</td>\n",
       "      <td>1</td>\n",
       "      <td>2</td>\n",
       "      <td>50</td>\n",
       "      <td>1457</td>\n",
       "      <td>21</td>\n",
       "    </tr>\n",
       "  </tbody>\n",
       "</table>\n",
       "<p>5 rows × 24 columns</p>\n",
       "</div>"
      ],
      "text/plain": [
       "             date_time  site_name  posa_continent  user_location_country  \\\n",
       "0  2014-08-11 07:46:59          2               3                     66   \n",
       "1  2014-08-11 08:22:12          2               3                     66   \n",
       "2  2014-08-11 08:24:33          2               3                     66   \n",
       "3  2014-08-09 18:05:16          2               3                     66   \n",
       "4  2014-08-09 18:08:18          2               3                     66   \n",
       "\n",
       "   user_location_region  user_location_city  orig_destination_distance  \\\n",
       "0                   348               48862                  2234.2641   \n",
       "1                   348               48862                  2234.2641   \n",
       "2                   348               48862                  2234.2641   \n",
       "3                   442               35390                   913.1932   \n",
       "4                   442               35390                   913.6259   \n",
       "\n",
       "   user_id  is_mobile  is_package  ...  srch_children_cnt srch_rm_cnt  \\\n",
       "0       12          0           1  ...                  0           1   \n",
       "1       12          0           1  ...                  0           1   \n",
       "2       12          0           0  ...                  0           1   \n",
       "3       93          0           0  ...                  0           1   \n",
       "4       93          0           0  ...                  0           1   \n",
       "\n",
       "  srch_destination_id  srch_destination_type_id  is_booking  cnt  \\\n",
       "0                8250                         1           0    3   \n",
       "1                8250                         1           1    1   \n",
       "2                8250                         1           0    1   \n",
       "3               14984                         1           0    1   \n",
       "4               14984                         1           0    1   \n",
       "\n",
       "   hotel_continent  hotel_country  hotel_market  hotel_cluster  \n",
       "0                2             50           628              1  \n",
       "1                2             50           628              1  \n",
       "2                2             50           628              1  \n",
       "3                2             50          1457             80  \n",
       "4                2             50          1457             21  \n",
       "\n",
       "[5 rows x 24 columns]"
      ]
     },
     "execution_count": 3,
     "metadata": {},
     "output_type": "execute_result"
    }
   ],
   "source": [
    "#Viewing the head of each dataset\n",
    "train.head()"
   ]
  },
  {
   "cell_type": "code",
   "execution_count": 4,
   "metadata": {
    "scrolled": false
   },
   "outputs": [
    {
     "data": {
      "text/html": [
       "<div>\n",
       "<style scoped>\n",
       "    .dataframe tbody tr th:only-of-type {\n",
       "        vertical-align: middle;\n",
       "    }\n",
       "\n",
       "    .dataframe tbody tr th {\n",
       "        vertical-align: top;\n",
       "    }\n",
       "\n",
       "    .dataframe thead th {\n",
       "        text-align: right;\n",
       "    }\n",
       "</style>\n",
       "<table border=\"1\" class=\"dataframe\">\n",
       "  <thead>\n",
       "    <tr style=\"text-align: right;\">\n",
       "      <th></th>\n",
       "      <th>srch_destination_id</th>\n",
       "      <th>d1</th>\n",
       "      <th>d2</th>\n",
       "      <th>d3</th>\n",
       "      <th>d4</th>\n",
       "      <th>d5</th>\n",
       "      <th>d6</th>\n",
       "      <th>d7</th>\n",
       "      <th>d8</th>\n",
       "      <th>d9</th>\n",
       "      <th>...</th>\n",
       "      <th>d140</th>\n",
       "      <th>d141</th>\n",
       "      <th>d142</th>\n",
       "      <th>d143</th>\n",
       "      <th>d144</th>\n",
       "      <th>d145</th>\n",
       "      <th>d146</th>\n",
       "      <th>d147</th>\n",
       "      <th>d148</th>\n",
       "      <th>d149</th>\n",
       "    </tr>\n",
       "  </thead>\n",
       "  <tbody>\n",
       "    <tr>\n",
       "      <th>0</th>\n",
       "      <td>0</td>\n",
       "      <td>-2.198657</td>\n",
       "      <td>-2.198657</td>\n",
       "      <td>-2.198657</td>\n",
       "      <td>-2.198657</td>\n",
       "      <td>-2.198657</td>\n",
       "      <td>-1.897627</td>\n",
       "      <td>-2.198657</td>\n",
       "      <td>-2.198657</td>\n",
       "      <td>-1.897627</td>\n",
       "      <td>...</td>\n",
       "      <td>-2.198657</td>\n",
       "      <td>-2.198657</td>\n",
       "      <td>-2.198657</td>\n",
       "      <td>-2.198657</td>\n",
       "      <td>-2.198657</td>\n",
       "      <td>-2.198657</td>\n",
       "      <td>-2.198657</td>\n",
       "      <td>-2.198657</td>\n",
       "      <td>-2.198657</td>\n",
       "      <td>-2.198657</td>\n",
       "    </tr>\n",
       "    <tr>\n",
       "      <th>1</th>\n",
       "      <td>1</td>\n",
       "      <td>-2.181690</td>\n",
       "      <td>-2.181690</td>\n",
       "      <td>-2.181690</td>\n",
       "      <td>-2.082564</td>\n",
       "      <td>-2.181690</td>\n",
       "      <td>-2.165028</td>\n",
       "      <td>-2.181690</td>\n",
       "      <td>-2.181690</td>\n",
       "      <td>-2.031597</td>\n",
       "      <td>...</td>\n",
       "      <td>-2.165028</td>\n",
       "      <td>-2.181690</td>\n",
       "      <td>-2.165028</td>\n",
       "      <td>-2.181690</td>\n",
       "      <td>-2.181690</td>\n",
       "      <td>-2.165028</td>\n",
       "      <td>-2.181690</td>\n",
       "      <td>-2.181690</td>\n",
       "      <td>-2.181690</td>\n",
       "      <td>-2.181690</td>\n",
       "    </tr>\n",
       "    <tr>\n",
       "      <th>2</th>\n",
       "      <td>2</td>\n",
       "      <td>-2.183490</td>\n",
       "      <td>-2.224164</td>\n",
       "      <td>-2.224164</td>\n",
       "      <td>-2.189562</td>\n",
       "      <td>-2.105819</td>\n",
       "      <td>-2.075407</td>\n",
       "      <td>-2.224164</td>\n",
       "      <td>-2.118483</td>\n",
       "      <td>-2.140393</td>\n",
       "      <td>...</td>\n",
       "      <td>-2.224164</td>\n",
       "      <td>-2.224164</td>\n",
       "      <td>-2.196379</td>\n",
       "      <td>-2.224164</td>\n",
       "      <td>-2.192009</td>\n",
       "      <td>-2.224164</td>\n",
       "      <td>-2.224164</td>\n",
       "      <td>-2.224164</td>\n",
       "      <td>-2.224164</td>\n",
       "      <td>-2.057548</td>\n",
       "    </tr>\n",
       "    <tr>\n",
       "      <th>3</th>\n",
       "      <td>3</td>\n",
       "      <td>-2.177409</td>\n",
       "      <td>-2.177409</td>\n",
       "      <td>-2.177409</td>\n",
       "      <td>-2.177409</td>\n",
       "      <td>-2.177409</td>\n",
       "      <td>-2.115485</td>\n",
       "      <td>-2.177409</td>\n",
       "      <td>-2.177409</td>\n",
       "      <td>-2.177409</td>\n",
       "      <td>...</td>\n",
       "      <td>-2.161081</td>\n",
       "      <td>-2.177409</td>\n",
       "      <td>-2.177409</td>\n",
       "      <td>-2.177409</td>\n",
       "      <td>-2.177409</td>\n",
       "      <td>-2.177409</td>\n",
       "      <td>-2.177409</td>\n",
       "      <td>-2.177409</td>\n",
       "      <td>-2.177409</td>\n",
       "      <td>-2.177409</td>\n",
       "    </tr>\n",
       "    <tr>\n",
       "      <th>4</th>\n",
       "      <td>4</td>\n",
       "      <td>-2.189562</td>\n",
       "      <td>-2.187783</td>\n",
       "      <td>-2.194008</td>\n",
       "      <td>-2.171153</td>\n",
       "      <td>-2.152303</td>\n",
       "      <td>-2.056618</td>\n",
       "      <td>-2.194008</td>\n",
       "      <td>-2.194008</td>\n",
       "      <td>-2.145911</td>\n",
       "      <td>...</td>\n",
       "      <td>-2.187356</td>\n",
       "      <td>-2.194008</td>\n",
       "      <td>-2.191779</td>\n",
       "      <td>-2.194008</td>\n",
       "      <td>-2.194008</td>\n",
       "      <td>-2.185161</td>\n",
       "      <td>-2.194008</td>\n",
       "      <td>-2.194008</td>\n",
       "      <td>-2.194008</td>\n",
       "      <td>-2.188037</td>\n",
       "    </tr>\n",
       "  </tbody>\n",
       "</table>\n",
       "<p>5 rows × 150 columns</p>\n",
       "</div>"
      ],
      "text/plain": [
       "   srch_destination_id        d1        d2        d3        d4        d5  \\\n",
       "0                    0 -2.198657 -2.198657 -2.198657 -2.198657 -2.198657   \n",
       "1                    1 -2.181690 -2.181690 -2.181690 -2.082564 -2.181690   \n",
       "2                    2 -2.183490 -2.224164 -2.224164 -2.189562 -2.105819   \n",
       "3                    3 -2.177409 -2.177409 -2.177409 -2.177409 -2.177409   \n",
       "4                    4 -2.189562 -2.187783 -2.194008 -2.171153 -2.152303   \n",
       "\n",
       "         d6        d7        d8        d9  ...      d140      d141      d142  \\\n",
       "0 -1.897627 -2.198657 -2.198657 -1.897627  ... -2.198657 -2.198657 -2.198657   \n",
       "1 -2.165028 -2.181690 -2.181690 -2.031597  ... -2.165028 -2.181690 -2.165028   \n",
       "2 -2.075407 -2.224164 -2.118483 -2.140393  ... -2.224164 -2.224164 -2.196379   \n",
       "3 -2.115485 -2.177409 -2.177409 -2.177409  ... -2.161081 -2.177409 -2.177409   \n",
       "4 -2.056618 -2.194008 -2.194008 -2.145911  ... -2.187356 -2.194008 -2.191779   \n",
       "\n",
       "       d143      d144      d145      d146      d147      d148      d149  \n",
       "0 -2.198657 -2.198657 -2.198657 -2.198657 -2.198657 -2.198657 -2.198657  \n",
       "1 -2.181690 -2.181690 -2.165028 -2.181690 -2.181690 -2.181690 -2.181690  \n",
       "2 -2.224164 -2.192009 -2.224164 -2.224164 -2.224164 -2.224164 -2.057548  \n",
       "3 -2.177409 -2.177409 -2.177409 -2.177409 -2.177409 -2.177409 -2.177409  \n",
       "4 -2.194008 -2.194008 -2.185161 -2.194008 -2.194008 -2.194008 -2.188037  \n",
       "\n",
       "[5 rows x 150 columns]"
      ]
     },
     "execution_count": 4,
     "metadata": {},
     "output_type": "execute_result"
    }
   ],
   "source": [
    "destinations.head()"
   ]
  },
  {
   "cell_type": "code",
   "execution_count": 5,
   "metadata": {},
   "outputs": [
    {
     "name": "stdout",
     "output_type": "stream",
     "text": [
      "(1000000, 24)\n",
      "(62106, 150)\n"
     ]
    }
   ],
   "source": [
    "#Shape of the data\n",
    "print(train.shape)\n",
    "print(destinations.shape)"
   ]
  },
  {
   "cell_type": "code",
   "execution_count": 6,
   "metadata": {},
   "outputs": [
    {
     "data": {
      "text/plain": [
       "date_time                         0\n",
       "site_name                         0\n",
       "posa_continent                    0\n",
       "user_location_country             0\n",
       "user_location_region              0\n",
       "user_location_city                0\n",
       "orig_destination_distance    370247\n",
       "user_id                           0\n",
       "is_mobile                         0\n",
       "is_package                        0\n",
       "channel                           0\n",
       "srch_ci                         998\n",
       "srch_co                         999\n",
       "srch_adults_cnt                   0\n",
       "srch_children_cnt                 0\n",
       "srch_rm_cnt                       0\n",
       "srch_destination_id               0\n",
       "srch_destination_type_id          0\n",
       "is_booking                        0\n",
       "cnt                               0\n",
       "hotel_continent                   0\n",
       "hotel_country                     0\n",
       "hotel_market                      0\n",
       "hotel_cluster                     0\n",
       "dtype: int64"
      ]
     },
     "execution_count": 6,
     "metadata": {},
     "output_type": "execute_result"
    }
   ],
   "source": [
    "#Checking how many missing data values there are in each data frame\n",
    "train.isnull().sum()"
   ]
  },
  {
   "cell_type": "code",
   "execution_count": 7,
   "metadata": {
    "scrolled": true
   },
   "outputs": [
    {
     "data": {
      "text/plain": [
       "srch_destination_id    0\n",
       "d1                     0\n",
       "d2                     0\n",
       "d3                     0\n",
       "d4                     0\n",
       "                      ..\n",
       "d145                   0\n",
       "d146                   0\n",
       "d147                   0\n",
       "d148                   0\n",
       "d149                   0\n",
       "Length: 150, dtype: int64"
      ]
     },
     "execution_count": 7,
     "metadata": {},
     "output_type": "execute_result"
    }
   ],
   "source": [
    "destinations.isnull().sum()"
   ]
  },
  {
   "cell_type": "code",
   "execution_count": 8,
   "metadata": {},
   "outputs": [],
   "source": [
    "'''\n",
    "The distance between each user and the destination could not always be calculated, resulting is several \n",
    "missing values for the orig_destination_distance column in the train.csv file. These will be filled in \n",
    "using the median distance.The destinations.csv file did not appear to contain any missing data. \n",
    "'''\n",
    "\n",
    "\n",
    "train['orig_destination_distance'] = train['orig_destination_distance'].fillna(train['orig_destination_distance'].median())"
   ]
  },
  {
   "cell_type": "code",
   "execution_count": 9,
   "metadata": {},
   "outputs": [
    {
     "data": {
      "text/plain": [
       "date_time                      0\n",
       "site_name                      0\n",
       "posa_continent                 0\n",
       "user_location_country          0\n",
       "user_location_region           0\n",
       "user_location_city             0\n",
       "orig_destination_distance      0\n",
       "user_id                        0\n",
       "is_mobile                      0\n",
       "is_package                     0\n",
       "channel                        0\n",
       "srch_ci                      998\n",
       "srch_co                      999\n",
       "srch_adults_cnt                0\n",
       "srch_children_cnt              0\n",
       "srch_rm_cnt                    0\n",
       "srch_destination_id            0\n",
       "srch_destination_type_id       0\n",
       "is_booking                     0\n",
       "cnt                            0\n",
       "hotel_continent                0\n",
       "hotel_country                  0\n",
       "hotel_market                   0\n",
       "hotel_cluster                  0\n",
       "dtype: int64"
      ]
     },
     "execution_count": 9,
     "metadata": {},
     "output_type": "execute_result"
    }
   ],
   "source": [
    "#Rechecking the number of missing values\n",
    "train.isnull().sum()"
   ]
  },
  {
   "cell_type": "code",
   "execution_count": 10,
   "metadata": {
    "scrolled": true
   },
   "outputs": [
    {
     "data": {
      "text/plain": [
       "date_time                    0\n",
       "site_name                    0\n",
       "posa_continent               0\n",
       "user_location_country        0\n",
       "user_location_region         0\n",
       "user_location_city           0\n",
       "orig_destination_distance    0\n",
       "user_id                      0\n",
       "is_mobile                    0\n",
       "is_package                   0\n",
       "channel                      0\n",
       "srch_ci                      0\n",
       "srch_co                      0\n",
       "srch_adults_cnt              0\n",
       "srch_children_cnt            0\n",
       "srch_rm_cnt                  0\n",
       "srch_destination_id          0\n",
       "srch_destination_type_id     0\n",
       "is_booking                   0\n",
       "cnt                          0\n",
       "hotel_continent              0\n",
       "hotel_country                0\n",
       "hotel_market                 0\n",
       "hotel_cluster                0\n",
       "dtype: int64"
      ]
     },
     "execution_count": 10,
     "metadata": {},
     "output_type": "execute_result"
    }
   ],
   "source": [
    "#The only missing data left now are in the check-in and check-out date columns. Since the number of missing data is very\n",
    "#small compared to the overall length of the data frame (0.1%), the missing data of those columns can be removed.\n",
    "\n",
    "train = train.dropna(axis = 0)\n",
    "train.isnull().sum()"
   ]
  },
  {
   "cell_type": "code",
   "execution_count": 11,
   "metadata": {
    "scrolled": true
   },
   "outputs": [
    {
     "data": {
      "image/png": "[encoded data removed]",
      "text/plain": [
       "<Figure size 2160x1440 with 2 Axes>"
      ]
     },
     "metadata": {
      "needs_background": "light"
     },
     "output_type": "display_data"
    }
   ],
   "source": [
    "#Are there are variables that are correlated with each other within train.csv? \n",
    "#A heatmap will be constructed and variables that are correlated with a correlation \n",
    "#coefficient of >0.3 will be removed. \n",
    "\n",
    "#Correlations of train.csv\n",
    "plt.figure(figsize = (30, 20))\n",
    "heatmap = sns.heatmap(train.corr()[train.corr() >= 0.3], vmin = -1, vmax = 1, cmap = 'BrBG')\n",
    "heatmap.set_title('Correlation Heatmap', fontdict = {'fontsize' : 18}, pad = 12);"
   ]
  },
  {
   "cell_type": "code",
   "execution_count": 12,
   "metadata": {},
   "outputs": [
    {
     "data": {
      "text/html": [
       "<div>\n",
       "<style scoped>\n",
       "    .dataframe tbody tr th:only-of-type {\n",
       "        vertical-align: middle;\n",
       "    }\n",
       "\n",
       "    .dataframe tbody tr th {\n",
       "        vertical-align: top;\n",
       "    }\n",
       "\n",
       "    .dataframe thead th {\n",
       "        text-align: right;\n",
       "    }\n",
       "</style>\n",
       "<table border=\"1\" class=\"dataframe\">\n",
       "  <thead>\n",
       "    <tr style=\"text-align: right;\">\n",
       "      <th></th>\n",
       "      <th>0</th>\n",
       "      <th>1</th>\n",
       "      <th>2</th>\n",
       "      <th>3</th>\n",
       "      <th>4</th>\n",
       "      <th>srch_destination_id</th>\n",
       "    </tr>\n",
       "  </thead>\n",
       "  <tbody>\n",
       "    <tr>\n",
       "      <th>0</th>\n",
       "      <td>-0.044268</td>\n",
       "      <td>0.169419</td>\n",
       "      <td>0.032522</td>\n",
       "      <td>-0.014264</td>\n",
       "      <td>-0.069654</td>\n",
       "      <td>0</td>\n",
       "    </tr>\n",
       "    <tr>\n",
       "      <th>1</th>\n",
       "      <td>-0.440761</td>\n",
       "      <td>0.077405</td>\n",
       "      <td>-0.091572</td>\n",
       "      <td>-0.020208</td>\n",
       "      <td>0.013205</td>\n",
       "      <td>1</td>\n",
       "    </tr>\n",
       "    <tr>\n",
       "      <th>2</th>\n",
       "      <td>0.001033</td>\n",
       "      <td>0.020677</td>\n",
       "      <td>0.012109</td>\n",
       "      <td>0.134141</td>\n",
       "      <td>0.142006</td>\n",
       "      <td>2</td>\n",
       "    </tr>\n",
       "    <tr>\n",
       "      <th>3</th>\n",
       "      <td>-0.480467</td>\n",
       "      <td>-0.040345</td>\n",
       "      <td>-0.019320</td>\n",
       "      <td>-0.040105</td>\n",
       "      <td>-0.027384</td>\n",
       "      <td>3</td>\n",
       "    </tr>\n",
       "    <tr>\n",
       "      <th>4</th>\n",
       "      <td>-0.207253</td>\n",
       "      <td>-0.042694</td>\n",
       "      <td>-0.011744</td>\n",
       "      <td>-0.017541</td>\n",
       "      <td>-0.019856</td>\n",
       "      <td>4</td>\n",
       "    </tr>\n",
       "  </tbody>\n",
       "</table>\n",
       "</div>"
      ],
      "text/plain": [
       "          0         1         2         3         4  srch_destination_id\n",
       "0 -0.044268  0.169419  0.032522 -0.014264 -0.069654                    0\n",
       "1 -0.440761  0.077405 -0.091572 -0.020208  0.013205                    1\n",
       "2  0.001033  0.020677  0.012109  0.134141  0.142006                    2\n",
       "3 -0.480467 -0.040345 -0.019320 -0.040105 -0.027384                    3\n",
       "4 -0.207253 -0.042694 -0.011744 -0.017541 -0.019856                    4"
      ]
     },
     "execution_count": 12,
     "metadata": {},
     "output_type": "execute_result"
    },
    {
     "data": {
      "image/png": "[encoded data removed]",
      "text/plain": [
       "<Figure size 2160x1440 with 2 Axes>"
      ]
     },
     "metadata": {
      "needs_background": "light"
     },
     "output_type": "display_data"
    }
   ],
   "source": [
    "#Correlations of destinations.csv, this time using a cutoff of 0.5 for the correlation coefficient \n",
    "plt.figure(figsize = (30, 20))\n",
    "heatmap = sns.heatmap(destinations.corr()[destinations.corr() >= 0.6], vmin = -1, vmax = 1, cmap = 'BrBG')\n",
    "heatmap.set_title('Correlation Heatmap', fontdict = {'fontsize' : 18}, pad = 12);\n",
    "\n",
    "#The correlations are all over the place. This makes sense, as destinations.csv is derived from text reviews.\n",
    "#We want to reduce the number of features to only the few columns required for the model building, so PCA\n",
    "#will be used to reduce the data down to 5 key columns. The correlation heatmap after PCA should look much clearer.\n",
    "\n",
    "#Initiailizing the PCA, then fitting the PCA to the destination data and storing the columns in a new data frame\n",
    "pca = PCA(n_components = 5)\n",
    "\n",
    "#Getting the column name list\n",
    "col_name_list = []\n",
    "for x in range(1, 150):\n",
    "    col_name_list.append('d{}'.format(x))\n",
    "\n",
    "#Fitting the PCA to the destination data and storing the columns in a new data frame\n",
    "shaved_set = pca.fit_transform(destinations[col_name_list])\n",
    "shaved_set = pd.DataFrame(shaved_set)\n",
    "shaved_set[\"srch_destination_id\"] = destinations[\"srch_destination_id\"]\n",
    "shaved_set.head()"
   ]
  },
  {
   "cell_type": "code",
   "execution_count": 13,
   "metadata": {},
   "outputs": [
    {
     "data": {
      "image/png": "[encoded data removed]",
      "text/plain": [
       "<Figure size 2160x1440 with 2 Axes>"
      ]
     },
     "metadata": {
      "needs_background": "light"
     },
     "output_type": "display_data"
    }
   ],
   "source": [
    "#Viewing a heatmap of the reduced dataset\n",
    "plt.figure(figsize = (30, 20))\n",
    "heatmap = sns.heatmap(shaved_set.corr()[shaved_set.corr() >= 0.5], vmin = -1, vmax = 1, cmap = 'BrBG')\n",
    "heatmap.set_title('Correlation Heatmap', fontdict = {'fontsize' : 18}, pad = 12);\n",
    "\n",
    "#We can see this dataset looks much cleaner, so it is ready to be used to build our models."
   ]
  },
  {
   "cell_type": "code",
   "execution_count": 14,
   "metadata": {},
   "outputs": [],
   "source": [
    "#Hotel country and continent are correlated, so continent will be removed, as continent is already given by country. Room\n",
    "#count and adult count are correlated, so room count will be removed, as the number of adults plus number of children \n",
    "#provides more information than the number of rooms.\n",
    "\n",
    "del train['hotel_continent']\n",
    "del train['srch_rm_cnt']\n",
    "\n",
    "#Checkout time will also be removed, as hotel customers consider checkin time much more heavily than checkout time\n",
    "#when choosing a hotel (hotels get more expensive based on what time the checkin time is placed).\n",
    "\n",
    "del train['srch_co']"
   ]
  },
  {
   "cell_type": "code",
   "execution_count": 15,
   "metadata": {},
   "outputs": [
    {
     "data": {
      "text/html": [
       "<div>\n",
       "<style scoped>\n",
       "    .dataframe tbody tr th:only-of-type {\n",
       "        vertical-align: middle;\n",
       "    }\n",
       "\n",
       "    .dataframe tbody tr th {\n",
       "        vertical-align: top;\n",
       "    }\n",
       "\n",
       "    .dataframe thead th {\n",
       "        text-align: right;\n",
       "    }\n",
       "</style>\n",
       "<table border=\"1\" class=\"dataframe\">\n",
       "  <thead>\n",
       "    <tr style=\"text-align: right;\">\n",
       "      <th></th>\n",
       "      <th>date_time</th>\n",
       "      <th>site_name</th>\n",
       "      <th>posa_continent</th>\n",
       "      <th>user_location_country</th>\n",
       "      <th>user_location_region</th>\n",
       "      <th>user_location_city</th>\n",
       "      <th>orig_destination_distance</th>\n",
       "      <th>user_id</th>\n",
       "      <th>is_mobile</th>\n",
       "      <th>is_package</th>\n",
       "      <th>...</th>\n",
       "      <th>is_booking</th>\n",
       "      <th>cnt</th>\n",
       "      <th>hotel_country</th>\n",
       "      <th>hotel_market</th>\n",
       "      <th>hotel_cluster</th>\n",
       "      <th>0</th>\n",
       "      <th>1</th>\n",
       "      <th>2</th>\n",
       "      <th>3</th>\n",
       "      <th>4</th>\n",
       "    </tr>\n",
       "  </thead>\n",
       "  <tbody>\n",
       "    <tr>\n",
       "      <th>0</th>\n",
       "      <td>2014-08-11 07:46:59</td>\n",
       "      <td>2</td>\n",
       "      <td>3</td>\n",
       "      <td>66</td>\n",
       "      <td>348</td>\n",
       "      <td>48862</td>\n",
       "      <td>2234.2641</td>\n",
       "      <td>12</td>\n",
       "      <td>0</td>\n",
       "      <td>1</td>\n",
       "      <td>...</td>\n",
       "      <td>0</td>\n",
       "      <td>3</td>\n",
       "      <td>50</td>\n",
       "      <td>628</td>\n",
       "      <td>1</td>\n",
       "      <td>2.168369</td>\n",
       "      <td>-0.061117</td>\n",
       "      <td>0.723258</td>\n",
       "      <td>-0.255067</td>\n",
       "      <td>0.258606</td>\n",
       "    </tr>\n",
       "    <tr>\n",
       "      <th>1</th>\n",
       "      <td>2014-08-11 08:22:12</td>\n",
       "      <td>2</td>\n",
       "      <td>3</td>\n",
       "      <td>66</td>\n",
       "      <td>348</td>\n",
       "      <td>48862</td>\n",
       "      <td>2234.2641</td>\n",
       "      <td>12</td>\n",
       "      <td>0</td>\n",
       "      <td>1</td>\n",
       "      <td>...</td>\n",
       "      <td>1</td>\n",
       "      <td>1</td>\n",
       "      <td>50</td>\n",
       "      <td>628</td>\n",
       "      <td>1</td>\n",
       "      <td>2.168369</td>\n",
       "      <td>-0.061117</td>\n",
       "      <td>0.723258</td>\n",
       "      <td>-0.255067</td>\n",
       "      <td>0.258606</td>\n",
       "    </tr>\n",
       "    <tr>\n",
       "      <th>2</th>\n",
       "      <td>2014-08-11 08:24:33</td>\n",
       "      <td>2</td>\n",
       "      <td>3</td>\n",
       "      <td>66</td>\n",
       "      <td>348</td>\n",
       "      <td>48862</td>\n",
       "      <td>2234.2641</td>\n",
       "      <td>12</td>\n",
       "      <td>0</td>\n",
       "      <td>0</td>\n",
       "      <td>...</td>\n",
       "      <td>0</td>\n",
       "      <td>1</td>\n",
       "      <td>50</td>\n",
       "      <td>628</td>\n",
       "      <td>1</td>\n",
       "      <td>2.168369</td>\n",
       "      <td>-0.061117</td>\n",
       "      <td>0.723258</td>\n",
       "      <td>-0.255067</td>\n",
       "      <td>0.258606</td>\n",
       "    </tr>\n",
       "    <tr>\n",
       "      <th>3</th>\n",
       "      <td>2014-11-10 12:38:02</td>\n",
       "      <td>2</td>\n",
       "      <td>3</td>\n",
       "      <td>66</td>\n",
       "      <td>318</td>\n",
       "      <td>48382</td>\n",
       "      <td>1753.2617</td>\n",
       "      <td>776</td>\n",
       "      <td>0</td>\n",
       "      <td>1</td>\n",
       "      <td>...</td>\n",
       "      <td>0</td>\n",
       "      <td>1</td>\n",
       "      <td>50</td>\n",
       "      <td>628</td>\n",
       "      <td>24</td>\n",
       "      <td>2.168369</td>\n",
       "      <td>-0.061117</td>\n",
       "      <td>0.723258</td>\n",
       "      <td>-0.255067</td>\n",
       "      <td>0.258606</td>\n",
       "    </tr>\n",
       "    <tr>\n",
       "      <th>4</th>\n",
       "      <td>2014-04-29 16:32:53</td>\n",
       "      <td>2</td>\n",
       "      <td>3</td>\n",
       "      <td>66</td>\n",
       "      <td>174</td>\n",
       "      <td>16634</td>\n",
       "      <td>382.6993</td>\n",
       "      <td>3313</td>\n",
       "      <td>0</td>\n",
       "      <td>1</td>\n",
       "      <td>...</td>\n",
       "      <td>0</td>\n",
       "      <td>1</td>\n",
       "      <td>50</td>\n",
       "      <td>628</td>\n",
       "      <td>45</td>\n",
       "      <td>2.168369</td>\n",
       "      <td>-0.061117</td>\n",
       "      <td>0.723258</td>\n",
       "      <td>-0.255067</td>\n",
       "      <td>0.258606</td>\n",
       "    </tr>\n",
       "  </tbody>\n",
       "</table>\n",
       "<p>5 rows × 26 columns</p>\n",
       "</div>"
      ],
      "text/plain": [
       "             date_time  site_name  posa_continent  user_location_country  \\\n",
       "0  2014-08-11 07:46:59          2               3                     66   \n",
       "1  2014-08-11 08:22:12          2               3                     66   \n",
       "2  2014-08-11 08:24:33          2               3                     66   \n",
       "3  2014-11-10 12:38:02          2               3                     66   \n",
       "4  2014-04-29 16:32:53          2               3                     66   \n",
       "\n",
       "   user_location_region  user_location_city  orig_destination_distance  \\\n",
       "0                   348               48862                  2234.2641   \n",
       "1                   348               48862                  2234.2641   \n",
       "2                   348               48862                  2234.2641   \n",
       "3                   318               48382                  1753.2617   \n",
       "4                   174               16634                   382.6993   \n",
       "\n",
       "   user_id  is_mobile  is_package  ...  is_booking cnt  hotel_country  \\\n",
       "0       12          0           1  ...           0   3             50   \n",
       "1       12          0           1  ...           1   1             50   \n",
       "2       12          0           0  ...           0   1             50   \n",
       "3      776          0           1  ...           0   1             50   \n",
       "4     3313          0           1  ...           0   1             50   \n",
       "\n",
       "   hotel_market  hotel_cluster         0         1         2         3  \\\n",
       "0           628              1  2.168369 -0.061117  0.723258 -0.255067   \n",
       "1           628              1  2.168369 -0.061117  0.723258 -0.255067   \n",
       "2           628              1  2.168369 -0.061117  0.723258 -0.255067   \n",
       "3           628             24  2.168369 -0.061117  0.723258 -0.255067   \n",
       "4           628             45  2.168369 -0.061117  0.723258 -0.255067   \n",
       "\n",
       "          4  \n",
       "0  0.258606  \n",
       "1  0.258606  \n",
       "2  0.258606  \n",
       "3  0.258606  \n",
       "4  0.258606  \n",
       "\n",
       "[5 rows x 26 columns]"
      ]
     },
     "execution_count": 15,
     "metadata": {},
     "output_type": "execute_result"
    }
   ],
   "source": [
    "#Merging the two datasets together and viewing the head\n",
    "newtrain = train.merge(shaved_set, on = 'srch_destination_id')\n",
    "newtrain.head()"
   ]
  },
  {
   "cell_type": "code",
   "execution_count": 16,
   "metadata": {},
   "outputs": [
    {
     "name": "stdout",
     "output_type": "stream",
     "text": [
      "Shape of the merged data frame: (994063, 26)\n"
     ]
    }
   ],
   "source": [
    "#Shape of the merged data frame\n",
    "print('Shape of the merged data frame: {}'.format(newtrain.shape))"
   ]
  },
  {
   "cell_type": "code",
   "execution_count": 17,
   "metadata": {},
   "outputs": [
    {
     "data": {
      "text/plain": [
       "32753"
      ]
     },
     "execution_count": 17,
     "metadata": {},
     "output_type": "execute_result"
    }
   ],
   "source": [
    "#Seeing how many uninque users are searching for hotels\n",
    "newtrain['user_id'].nunique()"
   ]
  },
  {
   "cell_type": "code",
   "execution_count": 18,
   "metadata": {},
   "outputs": [
    {
     "data": {
      "text/plain": [
       "count    32753.000000\n",
       "mean        30.350289\n",
       "std         43.773520\n",
       "min          1.000000\n",
       "25%          6.000000\n",
       "50%         14.000000\n",
       "75%         34.000000\n",
       "max        495.000000\n",
       "Name: hotel_cluster, dtype: float64"
      ]
     },
     "execution_count": 18,
     "metadata": {},
     "output_type": "execute_result"
    }
   ],
   "source": [
    "#32753 users are responsible for 1000000 searches on the website. Let's see if the\n",
    "#searches are spread out evenly by viewing the number of searches for each user.\n",
    "\n",
    "user_search = newtrain.groupby(newtrain['user_id']).count()['hotel_cluster']\n",
    "user_search.describe()\n",
    "#It appears that 75% of users have below 34 searches, close to the mean value, but 25% of users are very active\n",
    "#on the site, performing 34 to 495 searches each."
   ]
  },
  {
   "cell_type": "code",
   "execution_count": 19,
   "metadata": {},
   "outputs": [
    {
     "data": {
      "image/png": "[encoded data removed]",
      "text/plain": [
       "<Figure size 432x288 with 1 Axes>"
      ]
     },
     "metadata": {
      "needs_background": "light"
     },
     "output_type": "display_data"
    }
   ],
   "source": [
    "#Histogram of the above information\n",
    "\n",
    "plt.hist(user_search, bins = 25)\n",
    "plt.xlabel('Number of searches')\n",
    "plt.ylabel('Count')\n",
    "plt.show()"
   ]
  },
  {
   "cell_type": "code",
   "execution_count": 20,
   "metadata": {},
   "outputs": [
    {
     "data": {
      "image/png": "[encoded data removed]",
      "text/plain": [
       "<Figure size 432x288 with 1 Axes>"
      ]
     },
     "metadata": {
      "needs_background": "light"
     },
     "output_type": "display_data"
    }
   ],
   "source": [
    "#Plotting a few histograms of numerical features\n",
    "\n",
    "#Plotting histogram of destination distance from user to see how far most users are\n",
    "plt.hist(newtrain['orig_destination_distance'], bins = 25)\n",
    "plt.xlabel('Distance')\n",
    "plt.ylabel('Count')\n",
    "plt.show()\n",
    "\n",
    "#Most users appear to be within 2000 distance units of their destination."
   ]
  },
  {
   "cell_type": "code",
   "execution_count": 21,
   "metadata": {},
   "outputs": [
    {
     "data": {
      "image/png": "[encoded data removed]",
      "text/plain": [
       "<Figure size 432x288 with 1 Axes>"
      ]
     },
     "metadata": {
      "needs_background": "light"
     },
     "output_type": "display_data"
    },
    {
     "data": {
      "image/png": "[encoded data removed]",
      "text/plain": [
       "<Figure size 432x288 with 1 Axes>"
      ]
     },
     "metadata": {
      "needs_background": "light"
     },
     "output_type": "display_data"
    }
   ],
   "source": [
    "#Where are users located? Viewing histograms of city and country\n",
    "\n",
    "plt.hist(newtrain['user_location_city'], bins = 25)\n",
    "plt.xlabel('User City')\n",
    "plt.ylabel('Count')\n",
    "plt.show()\n",
    "\n",
    "plt.hist(newtrain['user_location_country'], bins = 25)\n",
    "plt.xlabel('User Country')\n",
    "plt.ylabel('Count')\n",
    "plt.show()"
   ]
  },
  {
   "cell_type": "code",
   "execution_count": 22,
   "metadata": {},
   "outputs": [
    {
     "data": {
      "text/plain": [
       "66"
      ]
     },
     "execution_count": 22,
     "metadata": {},
     "output_type": "execute_result"
    }
   ],
   "source": [
    "#Many users are from the same cities, but there is one country that stands out. Let's see what it is.\n",
    "\n",
    "newtrain['user_location_country'].mode().values[0]\n",
    "\n",
    "#Country number 66 is the country with the most Expedia users."
   ]
  },
  {
   "cell_type": "code",
   "execution_count": 23,
   "metadata": {},
   "outputs": [],
   "source": [
    "#The datetime column won't be useful for our analysis so it will be dropped\n",
    "\n",
    "newtrain = newtrain.drop(['date_time', 'srch_ci'], axis = 1)"
   ]
  },
  {
   "cell_type": "code",
   "execution_count": 24,
   "metadata": {},
   "outputs": [
    {
     "data": {
      "image/png": "[encoded data removed]",
      "text/plain": [
       "<Figure size 432x288 with 1 Axes>"
      ]
     },
     "metadata": {
      "needs_background": "light"
     },
     "output_type": "display_data"
    }
   ],
   "source": [
    "#Viewing the distribution of selected hotel clusters to see which ones are more popular\n",
    "\n",
    "plt.hist(newtrain['hotel_cluster'], bins = 100)\n",
    "plt.xlabel('Hotel Clusters')\n",
    "plt.ylabel('Count')\n",
    "plt.show()"
   ]
  },
  {
   "cell_type": "code",
   "execution_count": 25,
   "metadata": {},
   "outputs": [
    {
     "name": "stdout",
     "output_type": "stream",
     "text": [
      "Features shape: (994063, 23)\n",
      "Target vector shape: (994063,)\n"
     ]
    }
   ],
   "source": [
    "#Based on the EDA, it looks like user's country, number of adults in the search, \n",
    "#and the destination type are good predictors for the hotel cluster the user is likely to select.\n",
    "\n",
    "#Defining the features and target vector for our machine learning models\n",
    "features = newtrain.iloc[:, newtrain.columns != 'hotel_cluster']\n",
    "target = newtrain['hotel_cluster']\n",
    "print('Features shape: {}'.format(features.shape))\n",
    "print('Target vector shape: {}'.format(target.shape))"
   ]
  },
  {
   "cell_type": "code",
   "execution_count": 26,
   "metadata": {},
   "outputs": [],
   "source": [
    "#Randomly sampling 10% of the dataframe so the model doesn't take a very long time to run\n",
    "newtrain = newtrain.sample(frac = 0.1)"
   ]
  },
  {
   "cell_type": "code",
   "execution_count": 27,
   "metadata": {},
   "outputs": [],
   "source": [
    "#Splitting the data into training and testing sets \n",
    "X_train, X_test, y_train, y_test = train_test_split(features, target, test_size = 0.2, random_state = 42)"
   ]
  },
  {
   "cell_type": "code",
   "execution_count": 28,
   "metadata": {},
   "outputs": [
    {
     "name": "stdout",
     "output_type": "stream",
     "text": [
      "Precision: 5.33975455185595 percent\n"
     ]
    },
    {
     "data": {
      "text/plain": [
       "'\\nThe precision is very low, only about 5 percent. However, it can be improved.\\nWe can improve the score by finding the most popular clusters for each \\ndestination then comparing to the actual selected hotel clusters per destinaton \\nin the testing dataset to obtain a precision score.\\n'"
      ]
     },
     "execution_count": 28,
     "metadata": {},
     "output_type": "execute_result"
    }
   ],
   "source": [
    "#Now I will write code for the Expedia challenge, predicting hotel clusters based on search data\n",
    "\n",
    "#Splitting into training and testing data frames for use in this code\n",
    "traindf, testdf = train_test_split(newtrain, test_size = 0.2, random_state = 42)\n",
    "\n",
    "'''\n",
    "Base model from scratch without any modification\n",
    "Finding the top 5 most common clusters in the training dataset\n",
    "'''\n",
    "\n",
    "common_clusters = traindf['hotel_cluster'].value_counts()\n",
    "common_clusters = list(common_clusters.head(5).index)\n",
    "\n",
    "#Generating the predictions\n",
    "pred_cluster = []\n",
    "for x in range(testdf.shape[0]):\n",
    "    pred_cluster.append(common_clusters)\n",
    "\n",
    "#To use the MAPK function to evaluate mean average precision, the true clusters must be in list of lists format.\n",
    "true_cluster = []\n",
    "for x in testdf['hotel_cluster']:\n",
    "    true_cluster.append([x])\n",
    "\n",
    "#Evaluating the mean average precision for the model at k=5\n",
    "\n",
    "print('Precision: {} percent'.format(metrics.mapk(true_cluster, pred_cluster, k = 5)*100))\n",
    "\n",
    "'''\n",
    "The precision is very low, only about 5 percent. However, it can be improved.\n",
    "We can improve the score by finding the most popular clusters for each \n",
    "destination then comparing to the actual selected hotel clusters per destinaton \n",
    "in the testing dataset to obtain a precision score.\n",
    "'''\n",
    "\n"
   ]
  },
  {
   "cell_type": "code",
   "execution_count": 29,
   "metadata": {},
   "outputs": [],
   "source": [
    "#Improved model from scratch\n",
    "\n",
    "#First, a funciton must be defined to convert into strings\n",
    "def make_string(notstr):\n",
    "    return \"_\".join([str(x) for x in notstr])\n",
    "\n",
    "#Grouping the training set by destination then hotel cluster to get cluster groups for each destination\n",
    "cluster_groups = traindf.groupby(['srch_destination_id', 'hotel_cluster'])\n",
    "\n",
    "'''\n",
    "Generating a dictionary of the clusters for each destination ordered by their popularity\n",
    "Popularity here will be measured by whether a selected hotel cluster resulted in a booking,\n",
    "so the number of bookings for each cluster in a group will be calculated to order them.\n",
    "'''\n",
    "most_popular_clusters_per_destination = {}\n",
    "for name, group in cluster_groups:\n",
    "    \n",
    "    #Calculating the cluster popularity by seeing which clusters get booked more for each destination\n",
    "    popularity = sum(group['is_booking'][group['is_booking'] == True])\n",
    "    \n",
    "    #Converting each cluster name in a group into a string\n",
    "    cluster_string = make_string(name[:len(['srch_destination_id'])])\n",
    "    \n",
    "    #Initializing a dictionary for each destination and filling it with the cluster groups ordered by the \n",
    "    #popularity score calculated for each cluster above. This dictionary will then be placed as a value into a \n",
    "    #larger dictionary with destination IDs as the keys. This will result in a dictionary with destinations\n",
    "    #as keys and the clusters as a dictionary themselves, which will then be converted into a list.\n",
    "    if cluster_string not in most_popular_clusters_per_destination:\n",
    "        most_popular_clusters_per_destination[cluster_string] = {}\n",
    "    most_popular_clusters_per_destination[cluster_string][name[-1]] = popularity\n",
    "    "
   ]
  },
  {
   "cell_type": "code",
   "execution_count": 30,
   "metadata": {},
   "outputs": [],
   "source": [
    "#Storing the top 5 clusters for each destination in a list\n",
    "cluster_dict = {}\n",
    "for key in most_popular_clusters_per_destination:\n",
    "    \n",
    "    '''\n",
    "    For every destination, the most popular clusters will be placed into a list, which will \n",
    "    be added as the values of a new dictionary. This essentially converts the previous dictionary\n",
    "    from a dictionary containing dictionaries, into a dictionary containing lists instead.\n",
    "    '''\n",
    "    ordered = []\n",
    "    for x in sorted(most_popular_clusters_per_destination[key].items(), key = operator.itemgetter(1), reverse=True)[:5]:\n",
    "        ordered.append(x[0]) \n",
    "    cluster_dict[key] = ordered"
   ]
  },
  {
   "cell_type": "code",
   "execution_count": 31,
   "metadata": {},
   "outputs": [],
   "source": [
    "#Generating the predictions\n",
    "predictions = []\n",
    "for i, row in testdf.iterrows():\n",
    "    \n",
    "    #Getting the destination ID for each row in the test dataset. To match them to the dictionary of clusters,\n",
    "    #the ID must be converted into a string of integers, but to convert to an integer, the ID must be a float.\n",
    "    ID = str(int(float(make_string([row['srch_destination_id']]))))\n",
    "    \n",
    "    #To eliminate inaccuracies, the list of popular clusters from the previous dictionary will\n",
    "    #only be included if the destination in the testing set is present in the training set as well.\n",
    "    if ID in cluster_dict:\n",
    "        predictions.append(cluster_dict[ID])\n",
    "    else:\n",
    "        predictions.append([])"
   ]
  },
  {
   "cell_type": "code",
   "execution_count": 32,
   "metadata": {},
   "outputs": [
    {
     "name": "stdout",
     "output_type": "stream",
     "text": [
      "Precision: 19.0 percent\n"
     ]
    }
   ],
   "source": [
    "#Once again, to use the MAPK function to evaluate mean average precision, the true clusters must be in list of lists format.\n",
    "lst = []\n",
    "for x in testdf['hotel_cluster']:\n",
    "    lst.append([x])\n",
    "precision = metrics.mapk(lst, predictions, k = 5)\n",
    "\n",
    "print('Precision: {} percent'.format(round(precision, 3)*100))\n",
    "\n",
    "#Precision here is about 20 percent a 4-fold improvement on the base model from scratch."
   ]
  },
  {
   "cell_type": "code",
   "execution_count": 34,
   "metadata": {},
   "outputs": [
    {
     "name": "stdout",
     "output_type": "stream",
     "text": [
      "Precision: 3.3000000000000003 percent\n"
     ]
    }
   ],
   "source": [
    "#Building and evaluating a default Naive Bayes model with precision as the scoring metric\n",
    "\n",
    "nb = GaussianNB()\n",
    "nb.fit(X_train, y_train)\n",
    "y_pred = nb.predict(X_test)\n",
    "nb_precision = round(precision_score(y_test, y_pred, average = 'weighted'), 3)*100\n",
    "print('Precision: {} percent'.format(nb_precision))\n",
    "\n",
    "#Precision is 3.3 percent using a machine learning model, a much lower value than what was obtained via the Expedia code."
   ]
  },
  {
   "cell_type": "code",
   "execution_count": 35,
   "metadata": {},
   "outputs": [
    {
     "name": "stdout",
     "output_type": "stream",
     "text": [
      "Precision: 1.9 percent\n"
     ]
    }
   ],
   "source": [
    "#Building and evaluating another machine learning model, a decision tree classifier \n",
    "#using AdaBoost, to attempt to confirm the results of the previos classifier.\n",
    "\n",
    "ada = AdaBoostClassifier()\n",
    "ada.fit(X_train, y_train)\n",
    "y_pred2 = ada.predict(X_test)\n",
    "ada_precision = round(precision_score(y_test, y_pred2, average = 'weighted'), 3)*100\n",
    "print('Precision: {} percent'.format(  ada_precision ))"
   ]
  },
  {
   "cell_type": "code",
   "execution_count": null,
   "metadata": {},
   "outputs": [],
   "source": [
    "'''\n",
    "Precision is still low for the AdaBoost model as well, around 2 percent, confirming the machine learning results. Because \n",
    "two machine learning models output much lower precision scores, this means that machine learning alone is not enough \n",
    "to generate a good performing classification model. While the Expedia code did not output good precision either (20%), \n",
    "it was still 6 times higher than the highest percentage that could be achieved from machine learning, 3.3 percent.\n",
    "\n",
    "Why is machine learning not as good at recommending hotels as the code written from scratch? Perhaps it is because there \n",
    "are much too many factors that go into whether a user ultimately chooses one hotel over the other. \n",
    "'''"
   ]
  }
 ],
 "metadata": {
  "kernelspec": {
   "display_name": "Python 3",
   "language": "python",
   "name": "python3"
  },
  "language_info": {
   "codemirror_mode": {
    "name": "ipython",
    "version": 3
   },
   "file_extension": ".py",
   "mimetype": "text/x-python",
   "name": "python",
   "nbconvert_exporter": "python",
   "pygments_lexer": "ipython3",
   "version": "3.8.3"
  }
 },
 "nbformat": 4,
 "nbformat_minor": 4
}
